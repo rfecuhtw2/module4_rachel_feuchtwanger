{
  "cells": [
    {
      "cell_type": "markdown",
      "id": "a1bf34cd",
      "metadata": {
        "id": "a1bf34cd"
      },
      "source": [
        "\n",
        "# [PEP 8](https://peps.python.org/pep-0008/#programming-recommendations) Style: Practice & Reflection (Loops • Decisions • Functions)\n",
        "\n",
        "**Name:** Rachel Feuchtwanger  \n",
        "**Course / Section:** _e.g., Programming I_  \n",
        "**Date:** 2025-10-18\n",
        "\n",
        "**Learning goals**\n",
        "- Apply core [**PEP 8**](https://peps.python.org/pep-0008/#programming-recommendations) conventions to real code you write.\n",
        "- Practice writing **loops** and **decision structures** in a clean, readable style.\n",
        "- Use **functions** with clear names, docstrings, and (optional) type hints.\n",
        "- Reflect on *why* style matters and how it improves readability and collaboration.\n",
        "\n",
        "> ⚠️ **Honor Code:** Write your own explanations. You may discuss high-level ideas, but do not copy another student's text.\n"
      ]
    },
    {
      "cell_type": "markdown",
      "id": "c042d5df",
      "metadata": {
        "id": "c042d5df"
      },
      "source": [
        "\n",
        "## Part 0 — Reading Plan (15–20 min)\n",
        "\n",
        "[PEP 8](https://peps.python.org/pep-0008/#programming-recommendations) is the programatic style convention for coding in Python 3.\n",
        "It shows you exactly how to indent, how to skip lines between functions and code blocks, how to name variables, etc.\n",
        "\n",
        "NOTE : every language has their own programming conventions, PEP 8 is specific to Python 3\n",
        "\n",
        "In this assignment,  would like you to skim **the whole PEP 8** to see its scope, but **focus carefully** on these sections for today:\n",
        "1. **Code lay-out / Indentation**\n",
        "2. **Maximum line length** (and when/why to break lines)\n",
        "3. **Blank lines**\n",
        "4. **Imports** (high level awareness only)\n",
        "5. **Whitespace in expressions and statements** (e.g., around `=`, `+`, `,`)\n",
        "6. **Naming Conventions** (variables, functions) — avoid single letters unless obvious\n",
        "7. **Comments & Docstrings** (write what/why, not obvious how)\n",
        "8. **Programming Recommendations** (truthiness, `if cond is None`, etc.)\n",
        "\n",
        "> Suggested links (search \"PEP 8\" if needed): Python's official PEP 8, plus the \"pep8.org\" companion site.\n"
      ]
    },
    {
      "cell_type": "markdown",
      "id": "33067ffb",
      "metadata": {
        "id": "33067ffb"
      },
      "source": [
        "\n",
        "## Part 1 — Short Reflection (8–10 sentences total)\n",
        "\n",
        "Answer in **complete sentences** in the cell below.\n",
        "\n",
        "1. Which **three** PEP 8 rules will most improve your code *right now* and **why**?  \n",
        "2. Show a **small code snippet** (5–8 lines) you wrote previously and explain **two** changes you would make to align it with PEP 8.  \n",
        "3. When is it **reasonable to break PEP 8**, and how would you document that decision for teammates?  \n",
        "4. What PEP 8 rule did you **disagree with or find surprising**, and why?\n",
        "\n",
        "> Tip: You can insert code fences in Markdown using triple backticks.\n"
      ]
    },
    {
      "cell_type": "markdown",
      "id": "f4627a58",
      "metadata": {
        "id": "f4627a58"
      },
      "source": [
        "**bold text**\n",
        "_Your reflection goes here._\n",
        "1: a- Code layout and indentation\n",
        "   b- Whitespace in expressions and statements\n",
        "   c- comments and doctrings.\n",
        "2: def compute_totals(subtotal,tax_rate,tip_percent):\n",
        "    \"\"\"\n",
        "    #calculating the tax, tip, and total\n",
        "    tax = subtotal * tax_rate\n",
        "    tip = subtotal * (tip_percent/100)\n",
        "    total = subtotal + tax + tip\n",
        "    return tax,tip,total\n",
        "    \"\"\"\n",
        "    i would add more whitespace and more comments explaining what and how i was doing things.\n",
        "3: if using PEP8 will affect the readability of the code then it might be better not to use PEP8. I would let my teammates know in the docstrings at the beginning of the code and in comments where i break PEP8"
      ]
    },
    {
      "cell_type": "markdown",
      "id": "c5353b09",
      "metadata": {
        "id": "c5353b09"
      },
      "source": [
        "\n",
        "## Part 2 — Style Demonstrations (do, explain, and annotate)\n",
        "\n",
        "For each item below:\n",
        "- Write the **clean** version following PEP 8.\n",
        "- Add a one-sentence **explanation**: what rule did you apply and why?\n"
      ]
    },
    {
      "cell_type": "markdown",
      "id": "1b2f975b",
      "metadata": {
        "id": "1b2f975b"
      },
      "source": [
        "\n",
        "### 2A. Naming: variables & functions\n",
        "Bad → Fix it. Then explain the rules you applied.\n"
      ]
    },
    {
      "cell_type": "code",
      "execution_count": null,
      "id": "b5d35183",
      "metadata": {
        "id": "b5d35183"
      },
      "outputs": [],
      "source": [
        "\n",
        "# ❌ Bad\n",
        "X=10\n",
        "def DO(x):return x*X\n",
        "\n",
        "# ✅ Good (rewrite below)\n",
        "# Your improved version:\n",
        "def multiply_by_global(multiplier: int) -> int:\n",
        "    \"\"\"Return multiplier times the module-level constant SCALE.\"\"\"\n",
        "    SCALE = 10  # prefer UPPERCASE for constants at module level; here local for demo\n",
        "    result = multiplier * SCALE\n",
        "    return result\n",
        "\n",
        "# Explanation (Markdown in the next cell):\n"
      ]
    },
    {
      "cell_type": "markdown",
      "id": "cb2a146a",
      "metadata": {
        "id": "cb2a146a"
      },
      "source": [
        "**Explain:** Which PEP 8 naming rules did you apply? Why is `SCALE` capitalized? Why is the function name lowercase with underscores?\n",
        "\n",
        "Variable Names: names should be all lowercase and words are seperated by   underscores. also single letter variables are meant to be avoided.\n",
        "\n",
        "Function Names: should also be lowercase with words seperated by underscores\n",
        "\n",
        "Constants: Constant (varialbe that dont change) like SCALE are named in all caps also seperated by underscores .\n",
        "these rules are for readability."
      ]
    },
    {
      "cell_type": "markdown",
      "id": "ad75d9fb",
      "metadata": {
        "id": "ad75d9fb"
      },
      "source": [
        "\n",
        "### 2B. Indentation & Maximum Line Length\n",
        "Refactor the following to avoid long lines and to align arguments clearly.\n"
      ]
    },
    {
      "cell_type": "code",
      "execution_count": 7,
      "id": "a3d88833",
      "metadata": {
        "id": "a3d88833",
        "colab": {
          "base_uri": "https://localhost:8080/"
        },
        "outputId": "99438dd3-b55a-40ea-b1d1-58744677e591"
      },
      "outputs": [
        {
          "output_type": "stream",
          "name": "stdout",
          "text": [
            "28.166666666666668\n"
          ]
        }
      ],
      "source": [
        "\n",
        "# ❌ Bad: crammed call, hard to read\n",
        "def compute(a,b,c,d,e,f,g,h,i): return (a+b)*(c+d)-(e/f)+g-h+i\n",
        "val=compute(1,2,3,4,5,6,7,8,9)\n",
        "\n",
        "# ✅ Good: rewrite below with line breaks and sensible parameter names\n",
        "def compute_sum_diff_ratio(\n",
        "    alpha: int,\n",
        "    beta: int,\n",
        "    gamma: int,\n",
        "    delta: int,\n",
        "    epsilon: int,\n",
        "    zeta: int,\n",
        "    eta: int,\n",
        "    theta: int,\n",
        "    iota: int,\n",
        ") ->float:\n",
        "    \"\"\"Sample function to demonstrate readable formatting and line length.\"\"\"\n",
        "    return (alpha + beta) * (gamma + delta) - (epsilon / zeta) + eta - theta + iota\n",
        "\n",
        "    val = compute_sum_diff_ratio(\n",
        "      alpha = 1,\n",
        "      beta = 2,\n",
        "      gamma = 3,\n",
        "      delta = 4,\n",
        "      epsilon = 5,\n",
        "      zeta = 6,\n",
        "      eta = 7,\n",
        "      theta = 8,\n",
        "      iota = 9\n",
        ")\n",
        "\n",
        "print(val)\n"
      ]
    },
    {
      "cell_type": "markdown",
      "id": "cedf9bca",
      "metadata": {
        "id": "cedf9bca"
      },
      "source": [
        "\n",
        "**Explain:** How did you keep lines ≤ 79–99 chars?\n",
        " to keep lines within the recommended length, the function definition and the function call were broken across multiple lines.\n",
        "\n",
        "Keyword arguments improve readability especially when a function has many parameters.\n",
        "\n",
        "The indentation style used for parameters in the example is to align them vertically after the opening parenthesis, with each parameter on a new line."
      ]
    },
    {
      "cell_type": "markdown",
      "id": "d022bb43",
      "metadata": {
        "id": "d022bb43"
      },
      "source": [
        "\n",
        "### 2C. Whitespace in expressions & statements\n",
        "Fix spacing around operators, commas, and after `#` in comments.\n"
      ]
    },
    {
      "cell_type": "code",
      "execution_count": null,
      "id": "02a9d532",
      "metadata": {
        "id": "02a9d532"
      },
      "outputs": [],
      "source": [
        "\n",
        "# ❌ Bad\n",
        "x= 1+2\n",
        "my_list=[1 ,2,3 ,4]\n",
        "for i  in  range( 0,10 ):#bad\n",
        "    if(i%2==0):print(i,end=',')\n",
        "\n",
        "# ✅ Good (rewrite below)\n",
        "x = 1 + 2\n",
        "my_list = [1, 2, 3, 4]\n",
        "for i in range(0, 10):  # good: space after '#', single spaces around keywords/operators\n",
        "    if i % 2 == 0:\n",
        "        print(i, end=\",\")\n"
      ]
    },
    {
      "cell_type": "markdown",
      "id": "4a03e87f",
      "metadata": {
        "id": "4a03e87f"
      },
      "source": [
        "\n",
        "### 2D. Comments & Docstrings\n",
        "Add a **docstring** and **useful** comments (explain *why*, not the obvious *how*).\n",
        "\n",
        "NOTE your professor expects notation:\n",
        "\n",
        "1.   on each line of logic with #\n",
        "2.   each variable name\n",
        "3.   each function, class and method (we have not studied yet classes and methods) docstring \"\"\"\n",
        "4.   each program at the top with docstring \"\"\" which includes :\n",
        "5.   Your name\n",
        "6.   Purpose of program (we will add to this over time)\n",
        "7.   Date\n",
        "\n",
        "\n",
        "\n",
        "\n",
        "\n"
      ]
    },
    {
      "cell_type": "code",
      "execution_count": null,
      "id": "726bdccb",
      "metadata": {
        "id": "726bdccb"
      },
      "outputs": [],
      "source": [
        "\"\"\"\n",
        "  Rachel Feuchtwanger\n",
        "  October 18, 2025\n",
        "  Return the number of even integers in `nums`.\n",
        "\"\"\"\n",
        "def count_evens(nums):\n",
        "    \"\"\"Return the number of even integers in `nums`.\n",
        "\n",
        "    We check `n % 2 == 0` to classify even values.\n",
        "    \"\"\"\n",
        "    # Iterate once over the list for O(n) time.\n",
        "    count = 0\n",
        "    for n in nums:\n",
        "      # Check if n is even\n",
        "        if n % 2 == 0:\n",
        "          # Increase counter by 1\n",
        "            count += 1\n",
        "    return count\n",
        "\n",
        "# Test\n",
        "count_evens([1,2,3,4,5,6])\n"
      ]
    },
    {
      "cell_type": "markdown",
      "id": "f6533ef0",
      "metadata": {
        "id": "f6533ef0"
      },
      "source": [
        "\n",
        "**Explain:** What is the role of a docstring? How did you keep comments helpful (describing *why* vs restating the code)?\n",
        "A docstring is like a note for your code. It tells you and others what a function, class, or module does without having to read all the code. It's the first thing you see when you look up help for that code."
      ]
    },
    {
      "cell_type": "markdown",
      "id": "20de23d7",
      "metadata": {
        "id": "20de23d7"
      },
      "source": [
        "\n",
        "### 2E. Programming Recommendations (truthiness, `is None`)\n",
        "\n",
        "Here you can see the code written poorly and correctly, with PEP 8  recommendations.\n"
      ]
    },
    {
      "cell_type": "code",
      "execution_count": null,
      "id": "e82cac63",
      "metadata": {
        "id": "e82cac63"
      },
      "outputs": [],
      "source": [
        "\n",
        "# ❌ Bad\n",
        "def pick_message(msg):\n",
        "    if msg == None or msg == \"\":\n",
        "        return \"empty\"\n",
        "    if len(msg) == 0:\n",
        "        return \"empty\"\n",
        "    return msg\n",
        "\n",
        "# ✅ Good\n",
        "def pick_message(msg: str | None) :\n",
        "    if msg is None or msg == \"\":\n",
        "        return \"empty\"\n",
        "    return msg\n"
      ]
    },
    {
      "cell_type": "markdown",
      "id": "8063a974",
      "metadata": {
        "id": "8063a974"
      },
      "source": [
        "# 2 E question\n",
        "** >>>>> [link text](https://)Explain:** Why `is None` preferred over `== None`? When is truthiness (`if not msg`) appropriate, and when is it ambiguous?\n",
        "Use is None because it directly checks if a variable is the unique None object, which is the standard and clearest way in Python. Truthiness (if not msg) is appropriate for checking general \"emptiness\" like empty strings or lists when the specific type doesn't matter. However, truthiness is ambiguous if you need to distinguish between None and other \"empty\" values like an empty string or zero, making explicit checks necessary"
      ]
    },
    {
      "cell_type": "markdown",
      "id": "7ef944ee",
      "metadata": {
        "id": "7ef944ee"
      },
      "source": [
        "\n",
        "## Part 3 — loops + decisions\n",
        "\n",
        "**Demonstrated :** Clean up the code below to follow PEP 8 and improve readability. Keep the **same behavior**.\n",
        "\n",
        "Steps:\n",
        "1. Reformat for line length, naming, whitespace, and indentation.\n",
        "2. Extract helper functions with docstrings where it clarifies intent.\n",
        "3. Add 1–2 **assert-based tests** to show behavior is unchanged.\n",
        "\n",
        "Question : What is the difference between these two approaches, and how does it affect readability ?\n",
        "\n",
        "The messy version combines all logic into one function with short names, making it hard to follow the process. The cleaned version breaks down the task into smaller, well-named functions with explanations, making the code's purpose and steps much clearer. This structured approach significantly improves readability by allowing you to understand the code in smaller, more digestible parts."
      ]
    },
    {
      "cell_type": "code",
      "execution_count": null,
      "id": "0add1ac7",
      "metadata": {
        "id": "0add1ac7"
      },
      "outputs": [],
      "source": [
        "\n",
        "# ❌ Original (intentionally messy)\n",
        "def F(LIM):\n",
        "  s=0; i=0\n",
        "  while(i<LIM):\n",
        "     if(i%3==0 and i%5==0): s+=i\n",
        "     elif(i%3==0): s+=i\n",
        "     elif(i%5==0): s+=i\n",
        "     i=i+1\n",
        "  print(\"SUM:\",s)\n",
        "\n",
        "F(30)\n"
      ]
    },
    {
      "cell_type": "code",
      "execution_count": null,
      "id": "7659a485",
      "metadata": {
        "id": "7659a485"
      },
      "outputs": [],
      "source": [
        "\n",
        "# ✅ Your cleaned version (example solution shown)\n",
        "def is_multiple_of_3_or_5(n: int) -> bool:\n",
        "    \"\"\"Return True if n is a multiple of 3 or 5.\"\"\"\n",
        "    return (n % 3 == 0) or (n % 5 == 0)\n",
        "\n",
        "\n",
        "def sum_multiples(limit: int) -> int:\n",
        "    \"\"\"Return the sum of numbers in [0, limit) that are multiples of 3 or 5.\"\"\"\n",
        "    total = 0\n",
        "    for i in range(limit):\n",
        "        if is_multiple_of_3_or_5(i):\n",
        "            total += i\n",
        "    return total\n",
        "\n",
        "\n",
        "def main() -> None:\n",
        "    print(\"SUM:\", sum_multiples(30))\n",
        "\n",
        "\n",
        "# quick checks\n",
        "assert sum_multiples(10) == 23\n",
        "main()\n"
      ]
    },
    {
      "cell_type": "markdown",
      "source": [
        "## Part 4 : A study : How blank lines must be used in your code\n",
        "Observe : 2 blank lines before def multiply and def main.\n",
        "\n",
        "1 blank line between calculating total and product inside main (separates blocks).\n",
        "\n",
        "1 blank line before the if __name__ == \"__main__\": guard.\n",
        "\n",
        "### Question : insert a code block from assignment PA 1 Cafe, and show how it should be reformatted (before and after formatting). Explain what differences you have made, if any"
      ],
      "metadata": {
        "id": "KQrmuCv-7wms"
      },
      "id": "KQrmuCv-7wms"
    },
    {
      "cell_type": "code",
      "source": [
        "# ❌ Bad: no spaces, everything crammed\n",
        "def add(x,y):\n",
        "    return x+y\n",
        "def multiply(x,y):\n",
        "    return x*y\n",
        "def main():\n",
        "    total=add(2,3)\n",
        "    product=multiply(2,3)\n",
        "    if total>product:\n",
        "        print(\"Sum is larger\")\n",
        "    else:\n",
        "        print(\"Product is larger\")\n",
        "main()\n"
      ],
      "metadata": {
        "id": "gUvYlTtV79Gp"
      },
      "id": "gUvYlTtV79Gp",
      "execution_count": null,
      "outputs": []
    },
    {
      "cell_type": "code",
      "source": [
        "# ✅ Good: proper spacing\n",
        "def add(x: int, y: int) -> int:\n",
        "    \"\"\"Return the sum of x and y.\"\"\"\n",
        "    return x + y\n",
        "\n",
        "\n",
        "def multiply(x: int, y: int) -> int:\n",
        "    \"\"\"Return the product of x and y.\"\"\"\n",
        "    return x * y\n",
        "\n",
        "\n",
        "def main() -> None:\n",
        "    \"\"\"Compare sum vs product of two numbers.\"\"\"\n",
        "    total = add(2, 3)\n",
        "\n",
        "    # Separate logical blocks with one blank line\n",
        "    product = multiply(2, 3)\n",
        "\n",
        "    if total > product:\n",
        "        print(\"Sum is larger\")\n",
        "    else:\n",
        "        print(\"Product is larger\")\n",
        "\n",
        "\n",
        "# Separate main execution from definitions\n",
        "if __name__ == \"__main__\":\n",
        "    main()\n"
      ],
      "metadata": {
        "id": "_0MKdTlM8A4H"
      },
      "id": "_0MKdTlM8A4H",
      "execution_count": null,
      "outputs": []
    },
    {
      "cell_type": "code",
      "source": [
        "# Unformatted Campus Cafe code:\n",
        "\n",
        "def line_total (unit_price, qty):\n",
        "    #getting totals fr each item\n",
        "    total = unit_price * qty\n",
        "    return total\n",
        "def format_currency (x):\n",
        "    #formattingthe currency amounts\n",
        "    formatted_amount = f\"${x:.2f}\"\n",
        "    return formatted_amount\n",
        "\n",
        "\n",
        "\n",
        "# Reformatted Campus Cafe code:\n",
        "\n",
        "def line_total (unit_price, qty):\n",
        "    \"\"\"Getting totals for each item.\"\"\"\n",
        "    total = unit_price * qty\n",
        "\n",
        "    return total\n",
        "\n",
        "def format_currency (x):\n",
        "    \"\"\"Formatting the currency amounts.\"\"\"\n",
        "    formatted_amount = f\"${x:.2f}\"\n",
        "\n",
        "    return formatted_amount\n",
        "\n",
        "# When i reformatted the code i added more whitespace between the 2 functions and and within the functions."
      ],
      "metadata": {
        "id": "-s-ul0m37wRp"
      },
      "id": "-s-ul0m37wRp",
      "execution_count": null,
      "outputs": []
    },
    {
      "cell_type": "markdown",
      "id": "f264ed62",
      "metadata": {
        "id": "f264ed62"
      },
      "source": [
        "\n",
        "## Submission Checklist\n",
        "\n",
        "- [ ] I followed PEP 8 for naming, whitespace, docstrings, and line length.\n",
        "- [ ] I wrote clear explanations where requested.\n",
        "- [ ] My code passes my `assert` tests without errors.\n",
        "- [ ] I ran all cells (`Kernel → Restart & Run All`) before submitting.\n"
      ]
    },
    {
      "cell_type": "markdown",
      "id": "d8cd9eeb",
      "metadata": {
        "id": "d8cd9eeb"
      },
      "source": [
        "\n",
        "## Grading Rubric (20 pts)\n",
        "\n",
        "| Criterion | Points |\n",
        "|---|---:|\n",
        "| Reflection quality (insightful, specific, complete) | 4 |\n",
        "| 2A–2E demonstrations (correct style + explanation) | 6 |\n",
        "| Fix‑It workshop: readability + correctness + tests | 5 |\n",
        "| Clean code task: function, style, and tests | 5 |\n",
        "\n",
        "**Style penalties** (up to −3 total): inconsistent naming, poor spacing, missing/weak docstrings, >99 char lines without good reason.\n"
      ]
    }
  ],
  "metadata": {
    "colab": {
      "provenance": []
    },
    "language_info": {
      "name": "python"
    },
    "kernelspec": {
      "name": "python3",
      "display_name": "Python 3"
    }
  },
  "nbformat": 4,
  "nbformat_minor": 5
}